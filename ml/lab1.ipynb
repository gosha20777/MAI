{
 "cells": [
  {
   "cell_type": "code",
   "execution_count": 2,
   "metadata": {},
   "outputs": [],
   "source": [
    "from keras.models import Sequential\n",
    "from keras.layers.core import Dense, Dropout, Activation\n",
    "from keras.optimizers import SGD\n",
    "from keras.callbacks import Callback\n",
    "from keras.initializers import VarianceScaling \n",
    "import numpy as np "
   ]
  },
  {
   "cell_type": "code",
   "execution_count": 3,
   "metadata": {},
   "outputs": [],
   "source": [
    "lastEpoch = 0\n",
    "\n",
    "\n",
    "class EarlyStoppingByLossVal(Callback):\n",
    "    def __init__(self, monitor='val_loss', value=0.008, verbose=0):\n",
    "        super(Callback, self).__init__()\n",
    "        self.monitor = monitor\n",
    "        self.value = value\n",
    "        self.verbose = verbose\n",
    "    def on_epoch_end(self, epoch, logs={}):\n",
    "        global lastEpoch\n",
    "        current = logs.get(\"loss\")         \n",
    "        if current != None and current < self.value:\n",
    "            self.model.stop_training = True\n",
    "            lastEpoch = epoch + 1\n",
    "\n",
    "x = np.array([\n",
    "    [0,0], [0,1],\n",
    "    [1,0], [1,1]\n",
    "])\n",
    "y = np.array([\n",
    "    [0], [1], \n",
    "    [1], [0]\n",
    "])"
   ]
  },
  {
   "cell_type": "code",
   "execution_count": 4,
   "metadata": {},
   "outputs": [],
   "source": [
    "model = Sequential()\n",
    "model.add(Dense(8, \n",
    "                input_dim = 2, \n",
    "                use_bias = False, \n",
    "                kernel_initializer = VarianceScaling()))\n",
    "model.add(Activation('tanh'))\n",
    "model.add(Dense(1, \n",
    "                use_bias = False, \n",
    "                kernel_initializer = VarianceScaling()))\n",
    "model.add(Activation('tanh'))\n",
    "model.compile(loss = \"mean_squared_error\", \n",
    "              optimizer = SGD(lr = 0.6, \n",
    "                              momentum = 0.6))"
   ]
  },
  {
   "cell_type": "code",
   "execution_count": 5,
   "metadata": {},
   "outputs": [
    {
     "name": "stdout",
     "output_type": "stream",
     "text": [
      "WARNING:tensorflow:From /home/gosha20777/anaconda3/envs/tf-1-14/lib/python3.7/site-packages/keras/backend/tensorflow_backend.py:422: The name tf.global_variables is deprecated. Please use tf.compat.v1.global_variables instead.\n",
      "\n",
      "Epoch 1/10000\n",
      "4/4 [==============================] - 0s 20ms/step - loss: 0.2320\n",
      "Epoch 2/10000\n",
      "4/4 [==============================] - 0s 130us/step - loss: 0.2281\n",
      "Epoch 3/10000\n",
      "4/4 [==============================] - 0s 182us/step - loss: 0.2211\n",
      "Epoch 4/10000\n",
      "4/4 [==============================] - 0s 169us/step - loss: 0.2110\n",
      "Epoch 5/10000\n",
      "4/4 [==============================] - 0s 161us/step - loss: 0.1978\n",
      "Epoch 6/10000\n",
      "4/4 [==============================] - 0s 149us/step - loss: 0.1821\n",
      "Epoch 7/10000\n",
      "4/4 [==============================] - 0s 172us/step - loss: 0.1648\n",
      "Epoch 8/10000\n",
      "4/4 [==============================] - 0s 141us/step - loss: 0.1458\n",
      "Epoch 9/10000\n",
      "4/4 [==============================] - 0s 159us/step - loss: 0.1269\n",
      "Epoch 10/10000\n",
      "4/4 [==============================] - 0s 152us/step - loss: 0.1085\n",
      "Epoch 11/10000\n",
      "4/4 [==============================] - 0s 169us/step - loss: 0.0917\n",
      "Epoch 12/10000\n",
      "4/4 [==============================] - 0s 167us/step - loss: 0.0766\n",
      "Epoch 13/10000\n",
      "4/4 [==============================] - 0s 155us/step - loss: 0.0637\n",
      "Epoch 14/10000\n",
      "4/4 [==============================] - 0s 316us/step - loss: 0.0528\n",
      "Epoch 15/10000\n",
      "4/4 [==============================] - 0s 323us/step - loss: 0.0438\n",
      "Epoch 16/10000\n",
      "4/4 [==============================] - 0s 507us/step - loss: 0.0366\n",
      "Epoch 17/10000\n",
      "4/4 [==============================] - 0s 559us/step - loss: 0.0308\n",
      "Epoch 18/10000\n",
      "4/4 [==============================] - 0s 157us/step - loss: 0.0261\n",
      "Epoch 19/10000\n",
      "4/4 [==============================] - 0s 254us/step - loss: 0.0224\n",
      "Epoch 20/10000\n",
      "4/4 [==============================] - 0s 250us/step - loss: 0.0194\n",
      "Epoch 21/10000\n",
      "4/4 [==============================] - 0s 136us/step - loss: 0.0170\n",
      "Epoch 22/10000\n",
      "4/4 [==============================] - 0s 265us/step - loss: 0.0150\n",
      "Epoch 23/10000\n",
      "4/4 [==============================] - 0s 250us/step - loss: 0.0134\n",
      "Epoch 24/10000\n",
      "4/4 [==============================] - 0s 249us/step - loss: 0.0121\n",
      "Epoch 25/10000\n",
      "4/4 [==============================] - 0s 335us/step - loss: 0.0109\n",
      "Epoch 26/10000\n",
      "4/4 [==============================] - 0s 544us/step - loss: 0.0100\n",
      "Epoch 27/10000\n",
      "4/4 [==============================] - 0s 593us/step - loss: 0.0092\n",
      "Epoch 28/10000\n",
      "4/4 [==============================] - 0s 324us/step - loss: 0.0085\n",
      "Epoch 29/10000\n",
      "4/4 [==============================] - 0s 169us/step - loss: 0.0079\n",
      "[[0.        ]\n",
      " [0.8809736 ]\n",
      " [0.8820881 ]\n",
      " [0.03432403]]\n",
      "Last epoch: 29\n"
     ]
    }
   ],
   "source": [
    "model.fit(x, y, \n",
    "          verbose = 1, \n",
    "          batch_size = 4, \n",
    "          epochs = 10000, \n",
    "          callbacks = [\n",
    "            EarlyStoppingByLossVal()\n",
    "          ])\n",
    "\n",
    "print(model.predict_proba(x))\n",
    "print(\"Last epoch: \" + str(lastEpoch))"
   ]
  },
  {
   "cell_type": "code",
   "execution_count": null,
   "metadata": {},
   "outputs": [],
   "source": []
  }
 ],
 "metadata": {
  "kernelspec": {
   "display_name": "tf-1-14",
   "language": "python",
   "name": "tf-1-14"
  },
  "language_info": {
   "codemirror_mode": {
    "name": "ipython",
    "version": 3
   },
   "file_extension": ".py",
   "mimetype": "text/x-python",
   "name": "python",
   "nbconvert_exporter": "python",
   "pygments_lexer": "ipython3",
   "version": "3.7.9"
  }
 },
 "nbformat": 4,
 "nbformat_minor": 4
}
