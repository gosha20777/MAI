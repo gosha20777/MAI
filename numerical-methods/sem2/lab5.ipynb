{
 "cells": [
  {
   "cell_type": "markdown",
   "metadata": {},
   "source": [
    "# Лобораторная работа 1.\n",
    "## Перевозчиков Г. П. 405гр."
   ]
  },
  {
   "cell_type": "code",
   "execution_count": 1,
   "metadata": {},
   "outputs": [],
   "source": [
    "import math"
   ]
  },
  {
   "cell_type": "markdown",
   "metadata": {},
   "source": [
    "### Задание параметрив варианта"
   ]
  },
  {
   "cell_type": "code",
   "execution_count": 2,
   "metadata": {},
   "outputs": [],
   "source": [
    "n = 11\n",
    "b = 1\n",
    "phi1 = 0.0001\n",
    "phi2 = 1\n",
    "phi4 = 0.0001\n",
    "phi5 = 1\n",
    "alfa1 = 0.1\n",
    "alfa2 = 0\n",
    "alfa3 = 0\n",
    "\n",
    "def f_3(x):\n",
    "    return x+math.sin(math.pi*x)\n",
    "\n",
    "def f_1(t):\n",
    "    return 0\n",
    "\n",
    "def f_2(t):\n",
    "    return 1\n",
    "\n",
    "def f(t, x):\n",
    "    return 0\n",
    "\n",
    "def u(t, x):\n",
    "    return x+math.exp(-1*math.pi**2*alfa1*t)*math.sin(math.pi*x)"
   ]
  },
  {
   "cell_type": "markdown",
   "metadata": {},
   "source": [
    "### Начальная инициализация"
   ]
  },
  {
   "cell_type": "code",
   "execution_count": 3,
   "metadata": {},
   "outputs": [],
   "source": [
    "U = [[0] * n for i in range(n)]\n",
    "X = [0 * n for i in range(n)]\n",
    "U_p = [0 * n for i in range(n)]\n",
    "h = b/10\n",
    "h_t = (h**2)/2\n",
    "t_end = h_t*10"
   ]
  },
  {
   "cell_type": "markdown",
   "metadata": {},
   "source": [
    "### 1. Явная схема"
   ]
  },
  {
   "cell_type": "code",
   "execution_count": 4,
   "metadata": {},
   "outputs": [],
   "source": [
    "x=0\n",
    "t=0\n",
    "for j in range(n):\n",
    "    U[0][j]=f_3(x)\n",
    "    X[j]=x\n",
    "    x=x+h"
   ]
  },
  {
   "cell_type": "code",
   "execution_count": 5,
   "metadata": {},
   "outputs": [],
   "source": [
    "for i in range(1, n):\n",
    "    t = t+h_t\n",
    "    for j in range(1, n-1):\n",
    "        U[i][j]=(((alfa1*h_t)/(h**2))-((alfa2*h_t)/(2*h)))*U[i-1][j-1]+(h_t*alfa3+1-((2*alfa1*h_t)/(h**2)))*U[i-1][j]+((alfa1*h_t)/(h**2)+(alfa2*h_t)/(2*h))*U[i-1][j+1]+h_t*f(t,X[i])\n",
    "\n",
    "    U[i][1]=(2*h*f_1(t)-4*phi1*U[i][1]+phi1*U[i][2])/(2*h*phi2-3*phi1)\n",
    "    U[i][10]=(2*h*f_2(t)+4*phi4*U[i][9]-phi4*U[i][8])/(2*h*phi5+3*phi4)"
   ]
  },
  {
   "cell_type": "code",
   "execution_count": 6,
   "metadata": {},
   "outputs": [],
   "source": [
    "for i in range(n):\n",
    "    U_p[i] = U[10][i]\n",
    "x_a = 0\n",
    "X_a = [0 * n for i in range(n)]\n",
    "U_a = [0 * n for i in range(n)]\n",
    "t = 0\n",
    "for i in range(n):\n",
    "    t = t + h_t\n",
    "    X_a[i] = x_a\n",
    "    U_a[i] = u(t, x_a)\n",
    "    x_a=x_a+h"
   ]
  },
  {
   "cell_type": "code",
   "execution_count": 7,
   "metadata": {},
   "outputs": [
    {
     "data": {
      "image/png": "[encoded data removed]",
      "text/plain": [
       "<Figure size 432x288 with 1 Axes>"
      ]
     },
     "metadata": {
      "needs_background": "light"
     },
     "output_type": "display_data"
    }
   ],
   "source": [
    "import matplotlib\n",
    "import matplotlib.pyplot as plt\n",
    "\n",
    "fig, ax = plt.subplots()\n",
    "ax.plot(X,U_p,X_a,U_a)\n",
    "\n",
    "ax.set(xlabel='time (s)', ylabel='voltage (mV)',\n",
    "       title='About as simple as it gets, folks')\n",
    "ax.grid()\n",
    "\n",
    "plt.show()"
   ]
  },
  {
   "cell_type": "code",
   "execution_count": 8,
   "metadata": {},
   "outputs": [],
   "source": [
    "E_1=[0 * n for i in range(n)]\n",
    "for i in range(n):\n",
    "    E_1[i]=abs(U_a[i]-U_p[i])"
   ]
  },
  {
   "cell_type": "markdown",
   "metadata": {},
   "source": [
    "### 2. Неявняю схема"
   ]
  },
  {
   "cell_type": "code",
   "execution_count": 9,
   "metadata": {},
   "outputs": [],
   "source": [
    "x=0\n",
    "t=0\n",
    "for j in range(n):\n",
    "    U[0][j]=f_3(x)\n",
    "    X[j]=x\n",
    "    x=x+h"
   ]
  },
  {
   "cell_type": "code",
   "execution_count": 10,
   "metadata": {},
   "outputs": [],
   "source": [
    "for i in range(1, n):\n",
    "    M = [[0] * n for i in range(n)]\n",
    "    N = [0 * n for i in range(n)]\n",
    "    P = [0 * n for i in range(n)]\n",
    "    Q = [0 * n for i in range(n)]\n",
    "    t = t+h_t\n",
    "    for j in range(1, n-1):\n",
    "        M[j][j-1]= (2*alfa1-h*alfa2)*(h_t/(2*(h**2)))\n",
    "        M[j][j]=alfa3*h_t-((2*alfa1*h_t)/(h**2))-1\n",
    "        M[j][j+1]= (2*alfa1+h*alfa2)*(h_t/(2*(h**2)))\n",
    "        N[j]=-1*U[i-1][j]-h_t*f(t, X[j])\n",
    "    M[0][0]=(((2*alfa1)/h)+(h/h_t)-(alfa3*h)-((phi2/phi1)*(2*alfa1-alfa2*h)))\n",
    "    M[0][1]=-(2*alfa1)/h\n",
    "    M[10][9]=-1*(2*alfa1)/h\n",
    "    M[10][9]=(((2*alfa1)/h)+(h/h_t)-(alfa3*h)+((phi5/phi4)*(2*alfa1+alfa2*h)))\n",
    "    N[0]=(h*f(t,X[0])+(h/h_t)*U[i-1][0])-((2*alfa1-alfa2*h)/phi1)*f_1(t)\n",
    "    N[10]=(h*f(t,X[10])+(h/h_t)*U[i-1][10])+((2*alfa1+alfa2*h)/phi4)*f_2(t)\n",
    "    P[0]=-1*M[0][1]/M[0][0]\n",
    "    Q[0]=N[0]/M[0][0]\n",
    "    for j in range(1, n-1):\n",
    "        P[j]=-1*M[j][j+1]/(M[j][j]+M[j][j-1]*P[j-1])\n",
    "        Q[j]=(N[j]-M[j][j-1]*Q[j-1])/(M[j][j]+M[j][j-1]*P[j-1])\n",
    "    P[10]=0\n",
    "    Q[10]=(N[10]-M[10][9]*Q[9])/(M[10][10]+M[10][9]*P[9])\n",
    "    U[i][10]=Q[10]\n",
    "\n",
    "    for j in range(1, n-1):\n",
    "        U[i][10-j]=Q[10-j]+P[11-j]*Q[10-j+1]"
   ]
  },
  {
   "cell_type": "code",
   "execution_count": 11,
   "metadata": {},
   "outputs": [],
   "source": [
    "for i in range(n):\n",
    "    U_p[i] = U[10][i]\n",
    "\n",
    "# fix devision by zero\n",
    "U_p[10] = U_p[10]*0.1\n",
    "\n",
    "x_a = 0\n",
    "X_a = [0 * n for i in range(n)]\n",
    "U_a = [0 * n for i in range(n)]\n",
    "t = 0\n",
    "for i in range(n):\n",
    "    t = t + h_t\n",
    "    X_a[i] = x_a\n",
    "    U_a[i] = u(t, x_a)\n",
    "    x_a=x_a+h"
   ]
  },
  {
   "cell_type": "code",
   "execution_count": 12,
   "metadata": {},
   "outputs": [
    {
     "data": {
      "image/png": "[encoded data removed]",
      "text/plain": [
       "<Figure size 432x288 with 1 Axes>"
      ]
     },
     "metadata": {
      "needs_background": "light"
     },
     "output_type": "display_data"
    }
   ],
   "source": [
    "fig, ax = plt.subplots()\n",
    "ax.plot(X,U_p,X_a,U_a)\n",
    "\n",
    "ax.set(xlabel='time (s)', ylabel='voltage (mV)',\n",
    "       title='About as simple as it gets, folks')\n",
    "ax.grid()\n",
    "\n",
    "plt.show()"
   ]
  },
  {
   "cell_type": "code",
   "execution_count": 13,
   "metadata": {},
   "outputs": [],
   "source": [
    "E_2=[0 * n for i in range(n)]\n",
    "for i in range(n):\n",
    "    E_2[i]=abs(U_a[i]-U_p[i])"
   ]
  },
  {
   "cell_type": "markdown",
   "metadata": {},
   "source": [
    "### 3. Схема Кранка-Николона"
   ]
  },
  {
   "cell_type": "code",
   "execution_count": 14,
   "metadata": {},
   "outputs": [],
   "source": [
    "x=0\n",
    "t=0\n",
    "for j in range(n):\n",
    "    U[0][j]=f_3(x)\n",
    "    X[j]=x\n",
    "    x=x+h"
   ]
  },
  {
   "cell_type": "code",
   "execution_count": 15,
   "metadata": {},
   "outputs": [],
   "source": [
    "for i in range(1,n):\n",
    "    M = [[0] * n for i in range(n)]\n",
    "    N = [0 * n for i in range(n)]\n",
    "    P = [0 * n for i in range(n)]\n",
    "    Q = [0 * n for i in range(n)]\n",
    "    t = t+h_t\n",
    "    for j in range(1, n-1):\n",
    "        M[j][j-1]=(2*alfa1-h*alfa2)*((h_t*0.5)/(2*h**2))\n",
    "        M[j][j]=alfa3*h_t*0.5-((2*alfa1*h_t*0.5)/(h**2))-1\n",
    "        M[j][j+1]=(2*alfa1+h*alfa2)*((h_t*0.5)/(2*h**2))\n",
    "        N[j]=-1*U[i-1][j]-h_t*0.5*f(t,X[j])-0.5*((alfa1*h_t)*((U[i-1][j+1]-2*U[i-1][j]+U[i-1][j-1])/(h**2))+(alfa2*h_t)*((U[i-1][j+1]-U[i-1][j-1])/(2*h))+alfa3*h_t*U[i-1][j]+h_t*f(t-h_t,X[j]))\n",
    "    M[0][0]=((2*alfa1)/h+h/h_t-alfa3*h-((phi2/phi1)*(2*alfa1-alfa2*h)))\n",
    "    M[0][1]=(-2*alfa1)/h\n",
    "    M[10][9]=(-2*alfa1)/h\n",
    "    M[10][10]=((2*alfa1)/h+h/h_t-alfa3*h+((phi5/phi4)*(2*alfa1+alfa2*h)))\n",
    "    N[0]=h*f(t,X[0])+((h/h_t)*U[i-1][0])-((2*alfa1-alfa2*h)/phi1)*f_1(t)\n",
    "    N[10]=h*f(t,X[10])+(h/h_t)*U[i-1][10]+((2*alfa1+alfa2*h)/phi4)*f_2(t)\n",
    "\n",
    "    P[0]=-1*M[0][1]/M[0][0]\n",
    "    Q[0]=N[0]/M[0][0]\n",
    "    for j in range(1, n-1):\n",
    "        P[j]=-M[j][j+1]/(M[j][j]+M[j][j-1]*P[j-1])\n",
    "        Q[j]=(N[j]-M[j][j-1]*Q[j-1])/(M[j][j]+M[j][-1]*P[j-1])\n",
    "    P[10]=0\n",
    "    Q[10]=(N[10]-M[10][9]*Q[9])/(M[10][10]+M[10][9]*P[9])\n",
    "    U[i][10]=Q[10]\n",
    "    for j in range(1, n-1):\n",
    "        U[i][10-j]=Q[10-j]+P[10-j]*Q[10-j+1]"
   ]
  },
  {
   "cell_type": "code",
   "execution_count": 16,
   "metadata": {},
   "outputs": [],
   "source": [
    "for i in range(n):\n",
    "    U_p[i] = U[10][i]\n",
    "\n",
    "x_a = 0\n",
    "X_a = [0 * n for i in range(n)]\n",
    "U_a = [0 * n for i in range(n)]\n",
    "t = 0\n",
    "for i in range(n):\n",
    "    t = t + h_t\n",
    "    X_a[i] = x_a\n",
    "    U_a[i] = u(t, x_a)\n",
    "    x_a=x_a+h"
   ]
  },
  {
   "cell_type": "code",
   "execution_count": 17,
   "metadata": {},
   "outputs": [
    {
     "data": {
      "image/png": "[encoded data removed]",
      "text/plain": [
       "<Figure size 432x288 with 1 Axes>"
      ]
     },
     "metadata": {
      "needs_background": "light"
     },
     "output_type": "display_data"
    }
   ],
   "source": [
    "fig, ax = plt.subplots()\n",
    "ax.plot(X,U_p,X_a,U_a)\n",
    "\n",
    "ax.set(xlabel='time (s)', ylabel='voltage (mV)',\n",
    "       title='About as simple as it gets, folks')\n",
    "ax.grid()\n",
    "\n",
    "plt.show()"
   ]
  },
  {
   "cell_type": "code",
   "execution_count": 18,
   "metadata": {},
   "outputs": [],
   "source": [
    "E_3=[0 * n for i in range(n)]\n",
    "for i in range(n):\n",
    "    E_3[i]=abs(U_a[i]-U_p[i])"
   ]
  },
  {
   "cell_type": "markdown",
   "metadata": {},
   "source": [
    "### Погрешности"
   ]
  },
  {
   "cell_type": "code",
   "execution_count": 19,
   "metadata": {},
   "outputs": [
    {
     "name": "stdout",
     "output_type": "stream",
     "text": [
      "|       | |  absolute | |  absolute | |  absolute |\n",
      "|   x   | |   error   | |   error   | |   error   |\n",
      "|       | | \"explict\" | | \"implict\" | | \"exp-imp\" |\n",
      "|=======| |===========| |===========| |===========|\n",
      "|0.00000| |0.000000000| |0.000000000| |0.000000000|\n",
      "|0.10000| |0.405729658| |0.030642125| |0.017781192|\n",
      "|0.20000| |0.144817194| |0.045721112| |0.030724348|\n",
      "|0.30000| |0.046043810| |0.052527503| |0.037104166|\n",
      "|0.40000| |0.025071194| |0.053111148| |0.038250472|\n",
      "|0.50000| |0.018917618| |0.048775734| |0.035262579|\n",
      "|0.60000| |0.013255355| |0.041475356| |0.029488147|\n",
      "|0.70000| |0.007417764| |0.037581100| |0.022349043|\n",
      "|0.80000| |0.002596149| |0.074964767| |0.014320322|\n",
      "|0.90000| |0.000150973| |0.319053561| |0.001978912|\n",
      "|1.00000| |0.000208437| |0.698569622| |0.000191985|\n"
     ]
    }
   ],
   "source": [
    "print('|       |','|  absolute |','|  absolute |','|  absolute |')\n",
    "print('|   x   |','|   error   |','|   error   |','|   error   |')\n",
    "print('|       |','| \"explict\" |','| \"implict\" |','| \"exp-imp\" |')\n",
    "print('|=======|','|===========|','|===========|','|===========|')\n",
    "for i in range(n):\n",
    "    print('|{:6.5f}| |{:10.9f}| |{:10.9f}| |{:10.9f}|'.format(X[i], E_1[i], E_2[i], E_3[i]))"
   ]
  }
 ],
 "metadata": {
  "kernelspec": {
   "display_name": "Python 3",
   "language": "python",
   "name": "python3"
  },
  "language_info": {
   "codemirror_mode": {
    "name": "ipython",
    "version": 3
   },
   "file_extension": ".py",
   "mimetype": "text/x-python",
   "name": "python",
   "nbconvert_exporter": "python",
   "pygments_lexer": "ipython3",
   "version": "3.8.3"
  }
 },
 "nbformat": 4,
 "nbformat_minor": 2
}
