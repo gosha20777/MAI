{
 "cells": [
  {
   "cell_type": "code",
   "execution_count": 1,
   "metadata": {},
   "outputs": [],
   "source": [
    "import numpy as np\n",
    "\n",
    "# простые итерации\n",
    "def iter_algoritm_3x3(A, B, k):\n",
    "    a=A.copy()\n",
    "    b=B.copy()\n",
    "\n",
    "    b[0]=b[0]/a[0][0]\n",
    "    b[1]=b[1]/a[1][1]\n",
    "    b[2]=b[2]/a[2][2]\n",
    "\n",
    "    a[0]=a[0]/a[0][0]\n",
    "    a[1]=a[1]/a[1][1]\n",
    "    a[2]=a[2]/a[2][2]\n",
    "\n",
    "    a=a*-1\n",
    "    a[0][0]=0\n",
    "    a[1][1]=0\n",
    "    a[2][2]=0\n",
    "\n",
    "    xyz=b.copy()\n",
    "    for i in range(k):\n",
    "        xyz=np.dot(a,xyz)+b\n",
    "    return xyz\n",
    "\n",
    "# метод зейделя\n",
    "def seidel(A, B, k):    \n",
    "    a=A.copy()\n",
    "    b=B.copy()\n",
    "    m = len(A)\n",
    "    x = [.0 for i in range(m)]\n",
    "    for i in range(k):\n",
    "        x_new = np.copy(x)\n",
    "        for i in range(m):\n",
    "            s1 = sum(a[i][j] * x_new[j] for j in range(i))\n",
    "            s2 = sum(a[i][j] * x[j] for j in range(i + 1, m))\n",
    "            x_new[i] = (b[i] - s1 - s2) / a[i][i]\n",
    "            x = x_new\n",
    "    return x"
   ]
  },
  {
   "cell_type": "code",
   "execution_count": 2,
   "metadata": {},
   "outputs": [
    {
     "name": "stdout",
     "output_type": "stream",
     "text": [
      "[-7.99999943  3.00000039 -7.00000066]\n",
      "[-8.  3. -7.]\n"
     ]
    }
   ],
   "source": [
    "#1_11     Методом Простых итераций и методом Зейделя,\n",
    "#       сделав соответственно 10 и  5 итераций,\n",
    "#       вычислить решение СЛАУ\n",
    "#         39  -5   6       -369 \n",
    "#         -8  35  -1        176 \n",
    "#         -7  -8 -41        319\n",
    "\n",
    "\n",
    "A = np.array(\n",
    "    [\n",
    "        [39,-5,  6],\n",
    "        [-8,35, -1],\n",
    "        [-7,-8,-41]\n",
    "    ], dtype=float)\n",
    "\n",
    "B = np.array([-369,176,319], dtype=float)\n",
    "\n",
    "\n",
    "print(iter_algoritm_3x3(A, B, 10))\n",
    "print(seidel(A, B, 10))"
   ]
  },
  {
   "cell_type": "code",
   "execution_count": null,
   "metadata": {},
   "outputs": [],
   "source": []
  }
 ],
 "metadata": {
  "kernelspec": {
   "display_name": "Python 3",
   "language": "python",
   "name": "python3"
  },
  "language_info": {
   "codemirror_mode": {
    "name": "ipython",
    "version": 3
   },
   "file_extension": ".py",
   "mimetype": "text/x-python",
   "name": "python",
   "nbconvert_exporter": "python",
   "pygments_lexer": "ipython3",
   "version": "3.8.5"
  }
 },
 "nbformat": 4,
 "nbformat_minor": 4
}
