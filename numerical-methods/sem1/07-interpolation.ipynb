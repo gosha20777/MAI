{
 "cells": [
  {
   "cell_type": "code",
   "execution_count": 1,
   "metadata": {},
   "outputs": [],
   "source": [
    "from math import fabs\n",
    "import numpy as np"
   ]
  },
  {
   "cell_type": "code",
   "execution_count": 8,
   "metadata": {},
   "outputs": [],
   "source": [
    "#7 ( 1 11) построить интерполяционные многочлены по таблице\n",
    "#     x=   0.90   2.80   4.50   5.80 \n",
    "#     y=  14.00  15.40  15.20  12.40\n",
    "#     мн. Лагранжа\n",
    "#     мн. Ньютона\n",
    "#     канонический\n",
    "#     вычислить значение каждого из них в точке  х* =  3.65\n",
    "\n",
    "x=np.array([0.9,2.8,4.5,5.8])\n",
    "y=np.array([14.0,15.4,15.2,12.4])\n",
    "x0=3.65"
   ]
  },
  {
   "cell_type": "code",
   "execution_count": 9,
   "metadata": {},
   "outputs": [
    {
     "name": "stdout",
     "output_type": "stream",
     "text": [
      "Метод Лагранжа при подстановке x=3.65 даёт рузультат 15.471491228070175\n"
     ]
    }
   ],
   "source": [
    "#Метод Лагранжа \n",
    "def Lagrange(x,y,x0):\n",
    "    return(y[0]*1*(x0-x[1])*(x0-x[2])/(1*(x[0]-x[1])*(x[0]-x[2]))\n",
    "          +y[1]*(x0-x[0])*1*(x0-x[2])/((x[1]-x[0])*1*(x[1]-x[2]))\n",
    "          +y[2]*(x0-x[0])*(x0-x[1])*1/((x[2]-x[0])*(x[2]-x[1]*1)))\n",
    "print(\"Метод Лагранжа при подстановке x={x} даёт рузультат {f}\".format(x=x0, f=Lagrange(x,y,x0)))\n"
   ]
  },
  {
   "cell_type": "code",
   "execution_count": 10,
   "metadata": {},
   "outputs": [
    {
     "name": "stdout",
     "output_type": "stream",
     "text": [
      "Метод Ньютона при подстановке x=3.65 даёт рузультат 15.471491228070176\n"
     ]
    }
   ],
   "source": [
    "#Метод Ньютона\n",
    "def f2(x1,y1,x2,y2):\n",
    "    return((y2-y1)/(x2-x1))\n",
    "def f3(x1,y1,x2,y2,x3,y3):\n",
    "    return ((f2(x2,y2,x3,y3)-f2(x1,y1,x2,y2))/(x3-x1))\n",
    "def Newton(x1,x2,x3,y1,y2,y3,x0):\n",
    "    return(y1+f2(x1,y1,x2,y2)*(x0-x1)+f3(x1,y1,x2,y2,x3,y3)*(x0-x1)*(x0-x2))\n",
    "print(\"Метод Ньютона при подстановке x={x} даёт рузультат {f}\".format(x=x0, f=Newton(x[0],x[1],x[2],y[0],y[1],y[2],x0)))"
   ]
  },
  {
   "cell_type": "code",
   "execution_count": 11,
   "metadata": {},
   "outputs": [
    {
     "name": "stdout",
     "output_type": "stream",
     "text": [
      "Метод Канонического многочлнена при подстановке x=3.65 даёт рузультат 15.650462006665013\n"
     ]
    }
   ],
   "source": [
    "#Метод Канонического многочлена\n",
    "x1=[x[0]**(3-i) for i in range(4)]\n",
    "x2=[x[1]**(3-i) for i in range(4)]\n",
    "x3=[x[2]**(3-i) for i in range(4)]\n",
    "x4=[x[3]**(3-i) for i in range(4)]\n",
    "X=np.array([x1,x2,x3,x4])\n",
    "Y=y.copy()\n",
    "solve=np.linalg.solve(X, Y)\n",
    "def Kanon (solve,x0):\n",
    "    return(solve[0]*x0**3+solve[1]*x0**2+solve[2]*x0+solve[3])\n",
    "print(\"Метод Канонического многочлнена при подстановке x={x} даёт рузультат {f}\".format(x=x0, f=Kanon(solve,x0)))"
   ]
  },
  {
   "cell_type": "code",
   "execution_count": null,
   "metadata": {},
   "outputs": [],
   "source": []
  }
 ],
 "metadata": {
  "kernelspec": {
   "display_name": "Python 3",
   "language": "python",
   "name": "python3"
  },
  "language_info": {
   "codemirror_mode": {
    "name": "ipython",
    "version": 3
   },
   "file_extension": ".py",
   "mimetype": "text/x-python",
   "name": "python",
   "nbconvert_exporter": "python",
   "pygments_lexer": "ipython3",
   "version": "3.8.5"
  }
 },
 "nbformat": 4,
 "nbformat_minor": 2
}
