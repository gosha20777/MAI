{
 "cells": [
  {
   "cell_type": "markdown",
   "metadata": {},
   "source": [
    "# Лабораторная работа 2\n",
    "## Перевозчиков Г. П."
   ]
  },
  {
   "cell_type": "code",
   "execution_count": 22,
   "metadata": {},
   "outputs": [],
   "source": [
    "import numpy as np\n",
    "\n",
    "# Tri Diagonal Matrix Algorithm\n",
    "def TDMAsolve(a, b, c, d):\n",
    "    nf = len(d) # number of equations\n",
    "    ac, bc, cc, dc = map(np.array, (a, b, c, d)) # copy arrays\n",
    "    for it in range(1, nf):\n",
    "        mc = ac[it-1]/bc[it-1]\n",
    "        bc[it] = bc[it] - mc*cc[it-1] \n",
    "        dc[it] = dc[it] - mc*dc[it-1]\n",
    "  \n",
    "    xc = bc\n",
    "    xc[-1] = dc[-1]/bc[-1]\n",
    "\n",
    "    for il in range(nf-2, -1, -1):\n",
    "        xc[il] = (dc[il]-cc[il]*xc[il+1])/bc[il]\n",
    "\n",
    "    return xc"
   ]
  },
  {
   "cell_type": "code",
   "execution_count": 23,
   "metadata": {},
   "outputs": [
    {
     "name": "stdout",
     "output_type": "stream",
     "text": [
      "[[-10.  -2.   0.   0.   0.   0.]\n",
      " [  4. -10.   3.   0.   0.   0.]\n",
      " [  0.   3.  -8.   4.   0.   0.]\n",
      " [  0.   0.   1.  10.   5.   0.]\n",
      " [  0.   0.   0.  -2.  -9.   5.]\n",
      " [  0.   0.   0.   0.  -5.  11.]]\n",
      "[-32.  68. -60. -51.  55.  59.]\n",
      "[ 3.99060762 -3.95303811  4.16906279 -3.69709583 -3.63962089  3.70926323]\n",
      "[ 4. -4.  4. -4. -3.  4.]\n"
     ]
    }
   ],
   "source": [
    "#1 11  Методом ПРОГОНКИ решить слау с трёхдиагональной матрицей\n",
    "#      -10   -2    0    0    0    0      -32\n",
    "#        4  -10    3    0    0    0       68\n",
    "#        0    3   -8    4    0    0      -60\n",
    "#        0    0    1   10    5    0      -51\n",
    "#        0    0    0   -2   -9    5       55\n",
    "#        0    0    0    0   -5   11       59\n",
    "    \n",
    "\n",
    "#задаем матрицы\n",
    "A = np.array(\n",
    "    [\n",
    "        [-10,  -2,   0,   0,   0,   0],\n",
    "        [  4, -10,   3,   0,   0,   0],\n",
    "        [  0,   3,  -8,   4,   0,   0],\n",
    "        [  0,   0,   1,  10,   5,   0],\n",
    "        [  0,   0,   0,  -2,  -9,   5],\n",
    "        [  0,   0,   0,   0,  -5,  11]\n",
    "    ],dtype=float)\n",
    "\n",
    "a = np.array([4,3,1,-1,-5], dtype=float) \n",
    "b = np.array([-10,-10,-8,10,-9,11], dtype=float)\n",
    "c = np.array([-2,3,4,5,5], dtype=float)\n",
    "\n",
    "B = np.array([-32, 68,-60,-51, 55, 59], dtype=float)\n",
    "#вызов функции и вывод на экран\n",
    "print(A)\n",
    "print(B)\n",
    "print(TDMAsolve(a, b, c, B))\n",
    "print(np.linalg.solve(A, B))"
   ]
  },
  {
   "cell_type": "code",
   "execution_count": null,
   "metadata": {},
   "outputs": [],
   "source": []
  }
 ],
 "metadata": {
  "kernelspec": {
   "display_name": "Python 3",
   "language": "python",
   "name": "python3"
  },
  "language_info": {
   "codemirror_mode": {
    "name": "ipython",
    "version": 3
   },
   "file_extension": ".py",
   "mimetype": "text/x-python",
   "name": "python",
   "nbconvert_exporter": "python",
   "pygments_lexer": "ipython3",
   "version": "3.8.5"
  }
 },
 "nbformat": 4,
 "nbformat_minor": 2
}
