{
 "cells": [
  {
   "cell_type": "code",
   "execution_count": 1,
   "metadata": {},
   "outputs": [],
   "source": [
    "import math\n",
    "import matplotlib.pyplot as plt "
   ]
  },
  {
   "cell_type": "code",
   "execution_count": 13,
   "metadata": {},
   "outputs": [],
   "source": [
    "#(11-1) 1/12   решить задачу Коши для ОДУ   y'=  - 2 *y + 3 *x*x - 1\n",
    "#              7 <= x <= 11 ,  y(7) =  -3\n",
    "#          методом Эйлера с шагами  h1=  1.000 ,  h2=  0.500 и   h3=  0.400         \n",
    "#          методом Рунге-Кутты(4) с шагами  h1=  1.000 и   h2=  0.500"
   ]
  },
  {
   "cell_type": "code",
   "execution_count": 38,
   "metadata": {},
   "outputs": [
    {
     "name": "stdout",
     "output_type": "stream",
     "text": [
      "The value of y at x is: 158.85597213211867\n"
     ]
    }
   ],
   "source": [
    "def odeEuler(f,y0,t):\n",
    "    y = np.zeros(len(t))\n",
    "    y[0] = y0\n",
    "    for n in range(0,len(t)-1):\n",
    "        y[n+1] = y[n] + f(y[n],t[n])*(t[n+1] - t[n])\n",
    "    return y[-1]\n",
    "\n",
    "t = np.arange(7,11,0.2)\n",
    "y0 = -3\n",
    "f = lambda y,x: -2*y+3*x*x-1\n",
    "print('The value of y at x is:', odeEuler(f,y0,t))"
   ]
  },
  {
   "cell_type": "code",
   "execution_count": 33,
   "metadata": {},
   "outputs": [
    {
     "name": "stdout",
     "output_type": "stream",
     "text": [
      "The value of y at x is: 164.80246913580248\n"
     ]
    }
   ],
   "source": [
    "def dydx(x, y): \n",
    "    return -2*y+3*x*x-1 \n",
    "  \n",
    "# Finds value of y for a given x using step size h \n",
    "# and initial value y0 at x0. \n",
    "def rungeKutta(x0, y0, x, h): \n",
    "    # Count number of iterations using step size or \n",
    "    # step height h \n",
    "    n = (int)((x - x0)/h)  \n",
    "    # Iterate for number of iterations \n",
    "    y = y0 \n",
    "    for i in range(1, n + 1): \n",
    "        \"Apply Runge Kutta Formulas to find next value of y\"\n",
    "        k1 = h * dydx(x0, y) \n",
    "        k2 = h * dydx(x0 + 0.5 * h, y + 0.5 * k1) \n",
    "        k3 = h * dydx(x0 + 0.5 * h, y + 0.5 * k2) \n",
    "        k4 = h * dydx(x0 + h, y + k3) \n",
    "  \n",
    "        # Update next value of y \n",
    "        y = y + (1.0 / 6.0)*(k1 + 2 * k2 + 2 * k3 + k4) \n",
    "  \n",
    "        # Update next value of x \n",
    "        x0 = x0 + h \n",
    "    return y \n",
    "  \n",
    "# Driver method \n",
    "x0 = 7\n",
    "y0 = -3\n",
    "xn = 11\n",
    "h = 1\n",
    "print('The value of y at x is:', rungeKutta(x0, y0, xn, h))"
   ]
  }
 ],
 "metadata": {
  "kernelspec": {
   "display_name": "Python 3",
   "language": "python",
   "name": "python3"
  },
  "language_info": {
   "codemirror_mode": {
    "name": "ipython",
    "version": 3
   },
   "file_extension": ".py",
   "mimetype": "text/x-python",
   "name": "python",
   "nbconvert_exporter": "python",
   "pygments_lexer": "ipython3",
   "version": "3.8.5"
  }
 },
 "nbformat": 4,
 "nbformat_minor": 2
}
