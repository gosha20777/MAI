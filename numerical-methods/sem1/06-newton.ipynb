{
 "cells": [
  {
   "cell_type": "code",
   "execution_count": 1,
   "metadata": {},
   "outputs": [],
   "source": [
    "from math import fabs\n",
    "import numpy as np"
   ]
  },
  {
   "cell_type": "code",
   "execution_count": 2,
   "metadata": {},
   "outputs": [],
   "source": [
    "#  1 11  методом линеаризации (Ньютона) решить систему \n",
    "#          - 4 * x +  y  + 2 * z =0\n",
    "#           4 * x*x +  y*y +  5 * z -  3 = 0\n",
    "#           x*y -  2 * z = 0\n",
    "#        За начальные значения взять ( 1; 1; 1) и ( -1; -1; 1 )\n",
    "#        Сделать по 4 итерации"
   ]
  },
  {
   "cell_type": "code",
   "execution_count": 10,
   "metadata": {},
   "outputs": [
    {
     "name": "stdout",
     "output_type": "stream",
     "text": [
      "convergence!, nre iter: 4\n",
      "solution exercice: [0.39299539 1.12849013 0.22174571]\n",
      "convergence!, nre iter: 5\n",
      "solution exercice: [-0.25475041 -1.36732937  0.17416386]\n"
     ]
    }
   ],
   "source": [
    "import numpy as np\n",
    "\n",
    "def function_exercise(xyz):\n",
    "    x, y, z = xyz\n",
    "    return [-4*x+y+2*z,\n",
    "            4*x**2+y**2+5*z-3,\n",
    "            x*y-2*z]\n",
    "\n",
    "def jacobian_exercise(xyz):\n",
    "    x, y, z = xyz\n",
    "    return [[-4, 1, 2],\n",
    "            [8*x, 2*y, 5],\n",
    "            [y, x, -2]]\n",
    "\n",
    "def iterative_newton(fun, x_init, jacobian):\n",
    "    max_iter = 50\n",
    "    epsilon = 1e-8\n",
    "\n",
    "    x_last = x_init\n",
    "\n",
    "    for k in range(max_iter):\n",
    "        # Solve J(xn)*( xn+1 - xn ) = -F(xn):\n",
    "        J = np.array(jacobian(x_last))\n",
    "        F = np.array(fun(x_last))\n",
    "\n",
    "        diff = np.linalg.solve( J, -F )\n",
    "        x_last = x_last + diff\n",
    "\n",
    "        # Stop condition:\n",
    "        if np.linalg.norm(diff) < epsilon:\n",
    "            print('convergence!, nre iter:', k )\n",
    "            break\n",
    "\n",
    "    else: # only if the for loop end 'naturally'\n",
    "        print('not converged')\n",
    "\n",
    "    return x_last\n",
    "\n",
    "x0 = [1.0,1.0,1.0]\n",
    "x_sol = iterative_newton(function_exercise, x0, jacobian_exercise)\n",
    "print('solution exercice:', x_sol)\n",
    "\n",
    "x1 = [-1.0,-1.0,1.0]\n",
    "x_sol = iterative_newton(function_exercise, x1, jacobian_exercise)\n",
    "print('solution exercice:', x_sol )"
   ]
  },
  {
   "cell_type": "code",
   "execution_count": 11,
   "metadata": {},
   "outputs": [
    {
     "name": "stdout",
     "output_type": "stream",
     "text": [
      "solution exercice fsolve: [0.39299539 1.12849013 0.22174571]\n",
      "solution exercice fsolve: [-0.25475041 -1.36732937  0.17416386]\n"
     ]
    }
   ],
   "source": [
    "# проверка\n",
    "from scipy.optimize import fsolve\n",
    "\n",
    "sol = fsolve(function_exercise, x0, fprime=jacobian_exercise, full_output=1)\n",
    "print('solution exercice fsolve:', sol[0])\n",
    "\n",
    "sol = fsolve(function_exercise, x1, fprime=jacobian_exercise, full_output=1)\n",
    "print('solution exercice fsolve:', sol[0])"
   ]
  },
  {
   "cell_type": "code",
   "execution_count": null,
   "metadata": {},
   "outputs": [],
   "source": []
  }
 ],
 "metadata": {
  "kernelspec": {
   "display_name": "Python 3",
   "language": "python",
   "name": "python3"
  },
  "language_info": {
   "codemirror_mode": {
    "name": "ipython",
    "version": 3
   },
   "file_extension": ".py",
   "mimetype": "text/x-python",
   "name": "python",
   "nbconvert_exporter": "python",
   "pygments_lexer": "ipython3",
   "version": "3.8.5"
  }
 },
 "nbformat": 4,
 "nbformat_minor": 2
}
